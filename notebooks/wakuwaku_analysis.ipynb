{
 "cells": [
  {
   "cell_type": "markdown",
   "metadata": {},
   "source": [
    "# ワクワクメールのデータ分析"
   ]
  },
  {
   "cell_type": "code",
   "execution_count": 1,
   "metadata": {},
   "outputs": [],
   "source": [
    "import pandas as pd\n",
    "import datetime\n",
    "import seaborn as sns\n",
    "import japanize_matplotlib"
   ]
  },
  {
   "cell_type": "code",
   "execution_count": 2,
   "metadata": {},
   "outputs": [],
   "source": [
    "TOKYO_FILE_PATH = './../rawdata/wakuwaku_tokyo.csv'\n",
    "KANAGAWA_FILE_PATH = './../rawdata/wakuwaku_kanagawa.csv'\n",
    "\n",
    "tokyo_df = pd.read_csv(TOKYO_FILE_PATH)\n",
    "kanagawa_df = pd.read_csv(KANAGAWA_FILE_PATH)"
   ]
  },
  {
   "cell_type": "code",
   "execution_count": 3,
   "metadata": {},
   "outputs": [
    {
     "data": {
      "text/plain": [
       "(704, 309)"
      ]
     },
     "execution_count": 3,
     "metadata": {},
     "output_type": "execute_result"
    }
   ],
   "source": [
    "(len(tokyo_df), len(kanagawa_df))"
   ]
  },
  {
   "cell_type": "code",
   "execution_count": 4,
   "metadata": {},
   "outputs": [],
   "source": [
    "df_master = pd.merge(tokyo_df, kanagawa_df, how=\"outer\")\n",
    "df = df_master.drop([\"image_url\", \"url\"], axis=1)"
   ]
  },
  {
   "cell_type": "code",
   "execution_count": 5,
   "metadata": {},
   "outputs": [
    {
     "name": "stdout",
     "output_type": "stream",
     "text": [
      "1013\n"
     ]
    }
   ],
   "source": [
    "print(len(df))\n",
    "# df.head()"
   ]
  },
  {
   "cell_type": "markdown",
   "metadata": {},
   "source": [
    "## データ分析"
   ]
  },
  {
   "cell_type": "markdown",
   "metadata": {},
   "source": [
    "### 地域別"
   ]
  },
  {
   "cell_type": "code",
   "execution_count": 6,
   "metadata": {},
   "outputs": [
    {
     "data": {
      "text/html": [
       "<div>\n",
       "<style scoped>\n",
       "    .dataframe tbody tr th:only-of-type {\n",
       "        vertical-align: middle;\n",
       "    }\n",
       "\n",
       "    .dataframe tbody tr th {\n",
       "        vertical-align: top;\n",
       "    }\n",
       "\n",
       "    .dataframe thead th {\n",
       "        text-align: right;\n",
       "    }\n",
       "</style>\n",
       "<table border=\"1\" class=\"dataframe\">\n",
       "  <thead>\n",
       "    <tr style=\"text-align: right;\">\n",
       "      <th></th>\n",
       "      <th>投稿数</th>\n",
       "    </tr>\n",
       "    <tr>\n",
       "      <th>地域</th>\n",
       "      <th></th>\n",
       "    </tr>\n",
       "  </thead>\n",
       "  <tbody>\n",
       "    <tr>\n",
       "      <th>新宿区</th>\n",
       "      <td>177</td>\n",
       "    </tr>\n",
       "    <tr>\n",
       "      <th>豊島区</th>\n",
       "      <td>132</td>\n",
       "    </tr>\n",
       "    <tr>\n",
       "      <th>横浜市西区</th>\n",
       "      <td>58</td>\n",
       "    </tr>\n",
       "    <tr>\n",
       "      <th>渋谷区</th>\n",
       "      <td>33</td>\n",
       "    </tr>\n",
       "    <tr>\n",
       "      <th>台東区</th>\n",
       "      <td>27</td>\n",
       "    </tr>\n",
       "    <tr>\n",
       "      <th>横浜市神奈川区</th>\n",
       "      <td>26</td>\n",
       "    </tr>\n",
       "    <tr>\n",
       "      <th>世田谷区</th>\n",
       "      <td>23</td>\n",
       "    </tr>\n",
       "    <tr>\n",
       "      <th>横浜市中区</th>\n",
       "      <td>22</td>\n",
       "    </tr>\n",
       "    <tr>\n",
       "      <th>足立区</th>\n",
       "      <td>21</td>\n",
       "    </tr>\n",
       "    <tr>\n",
       "      <th>藤沢市</th>\n",
       "      <td>20</td>\n",
       "    </tr>\n",
       "  </tbody>\n",
       "</table>\n",
       "</div>"
      ],
      "text/plain": [
       "         投稿数\n",
       "地域          \n",
       "新宿区      177\n",
       "豊島区      132\n",
       "横浜市西区     58\n",
       "渋谷区       33\n",
       "台東区       27\n",
       "横浜市神奈川区   26\n",
       "世田谷区      23\n",
       "横浜市中区     22\n",
       "足立区       21\n",
       "藤沢市       20"
      ]
     },
     "execution_count": 6,
     "metadata": {},
     "output_type": "execute_result"
    }
   ],
   "source": [
    "output = pd.DataFrame(df.groupby(\"city\").count()[\"id\"])\n",
    "output.index.name = \"地域\"\n",
    "output = output.rename(columns = {\"id\": \"投稿数\"})\n",
    "output.sort_values(\"投稿数\", ascending=False).head(10)"
   ]
  },
  {
   "cell_type": "markdown",
   "metadata": {},
   "source": [
    "### 年代別"
   ]
  },
  {
   "cell_type": "code",
   "execution_count": 7,
   "metadata": {},
   "outputs": [
    {
     "data": {
      "text/html": [
       "<div>\n",
       "<style scoped>\n",
       "    .dataframe tbody tr th:only-of-type {\n",
       "        vertical-align: middle;\n",
       "    }\n",
       "\n",
       "    .dataframe tbody tr th {\n",
       "        vertical-align: top;\n",
       "    }\n",
       "\n",
       "    .dataframe thead th {\n",
       "        text-align: right;\n",
       "    }\n",
       "</style>\n",
       "<table border=\"1\" class=\"dataframe\">\n",
       "  <thead>\n",
       "    <tr style=\"text-align: right;\">\n",
       "      <th></th>\n",
       "      <th>投稿数</th>\n",
       "    </tr>\n",
       "    <tr>\n",
       "      <th>年代</th>\n",
       "      <th></th>\n",
       "    </tr>\n",
       "  </thead>\n",
       "  <tbody>\n",
       "    <tr>\n",
       "      <th>20代前半</th>\n",
       "      <td>301</td>\n",
       "    </tr>\n",
       "    <tr>\n",
       "      <th>20代半ば</th>\n",
       "      <td>167</td>\n",
       "    </tr>\n",
       "    <tr>\n",
       "      <th>20代後半</th>\n",
       "      <td>158</td>\n",
       "    </tr>\n",
       "    <tr>\n",
       "      <th>30代前半</th>\n",
       "      <td>118</td>\n",
       "    </tr>\n",
       "    <tr>\n",
       "      <th>18-19歳</th>\n",
       "      <td>80</td>\n",
       "    </tr>\n",
       "    <tr>\n",
       "      <th>30代後半</th>\n",
       "      <td>52</td>\n",
       "    </tr>\n",
       "    <tr>\n",
       "      <th>30代半ば</th>\n",
       "      <td>47</td>\n",
       "    </tr>\n",
       "    <tr>\n",
       "      <th>40代前半</th>\n",
       "      <td>36</td>\n",
       "    </tr>\n",
       "    <tr>\n",
       "      <th>40代半ば</th>\n",
       "      <td>20</td>\n",
       "    </tr>\n",
       "    <tr>\n",
       "      <th>40代後半</th>\n",
       "      <td>12</td>\n",
       "    </tr>\n",
       "    <tr>\n",
       "      <th>50代前半</th>\n",
       "      <td>10</td>\n",
       "    </tr>\n",
       "    <tr>\n",
       "      <th>50代半ば</th>\n",
       "      <td>5</td>\n",
       "    </tr>\n",
       "    <tr>\n",
       "      <th>50代後半</th>\n",
       "      <td>3</td>\n",
       "    </tr>\n",
       "    <tr>\n",
       "      <th>60代前半</th>\n",
       "      <td>2</td>\n",
       "    </tr>\n",
       "    <tr>\n",
       "      <th>70代以上</th>\n",
       "      <td>2</td>\n",
       "    </tr>\n",
       "  </tbody>\n",
       "</table>\n",
       "</div>"
      ],
      "text/plain": [
       "        投稿数\n",
       "年代         \n",
       "20代前半   301\n",
       "20代半ば   167\n",
       "20代後半   158\n",
       "30代前半   118\n",
       "18-19歳   80\n",
       "30代後半    52\n",
       "30代半ば    47\n",
       "40代前半    36\n",
       "40代半ば    20\n",
       "40代後半    12\n",
       "50代前半    10\n",
       "50代半ば     5\n",
       "50代後半     3\n",
       "60代前半     2\n",
       "70代以上     2"
      ]
     },
     "execution_count": 7,
     "metadata": {},
     "output_type": "execute_result"
    }
   ],
   "source": [
    "output = pd.DataFrame(df.groupby(\"age\").count()[\"id\"])\n",
    "output.index.name = \"年代\"\n",
    "output = output.rename(columns = {\"id\": \"投稿数\"})\n",
    "output.sort_values(\"投稿数\", ascending=False).head(20)"
   ]
  },
  {
   "cell_type": "markdown",
   "metadata": {},
   "source": [
    "### 時間帯別"
   ]
  },
  {
   "cell_type": "code",
   "execution_count": 8,
   "metadata": {},
   "outputs": [
    {
     "data": {
      "text/html": [
       "<div>\n",
       "<style scoped>\n",
       "    .dataframe tbody tr th:only-of-type {\n",
       "        vertical-align: middle;\n",
       "    }\n",
       "\n",
       "    .dataframe tbody tr th {\n",
       "        vertical-align: top;\n",
       "    }\n",
       "\n",
       "    .dataframe thead th {\n",
       "        text-align: right;\n",
       "    }\n",
       "</style>\n",
       "<table border=\"1\" class=\"dataframe\">\n",
       "  <thead>\n",
       "    <tr style=\"text-align: right;\">\n",
       "      <th></th>\n",
       "      <th>投稿数</th>\n",
       "    </tr>\n",
       "    <tr>\n",
       "      <th>時間帯</th>\n",
       "      <th></th>\n",
       "    </tr>\n",
       "  </thead>\n",
       "  <tbody>\n",
       "    <tr>\n",
       "      <th>0</th>\n",
       "      <td>14</td>\n",
       "    </tr>\n",
       "    <tr>\n",
       "      <th>1</th>\n",
       "      <td>7</td>\n",
       "    </tr>\n",
       "    <tr>\n",
       "      <th>2</th>\n",
       "      <td>5</td>\n",
       "    </tr>\n",
       "    <tr>\n",
       "      <th>3</th>\n",
       "      <td>10</td>\n",
       "    </tr>\n",
       "    <tr>\n",
       "      <th>4</th>\n",
       "      <td>8</td>\n",
       "    </tr>\n",
       "    <tr>\n",
       "      <th>5</th>\n",
       "      <td>6</td>\n",
       "    </tr>\n",
       "    <tr>\n",
       "      <th>6</th>\n",
       "      <td>2</td>\n",
       "    </tr>\n",
       "    <tr>\n",
       "      <th>7</th>\n",
       "      <td>8</td>\n",
       "    </tr>\n",
       "    <tr>\n",
       "      <th>8</th>\n",
       "      <td>5</td>\n",
       "    </tr>\n",
       "    <tr>\n",
       "      <th>9</th>\n",
       "      <td>14</td>\n",
       "    </tr>\n",
       "    <tr>\n",
       "      <th>10</th>\n",
       "      <td>13</td>\n",
       "    </tr>\n",
       "    <tr>\n",
       "      <th>11</th>\n",
       "      <td>24</td>\n",
       "    </tr>\n",
       "    <tr>\n",
       "      <th>12</th>\n",
       "      <td>30</td>\n",
       "    </tr>\n",
       "    <tr>\n",
       "      <th>13</th>\n",
       "      <td>22</td>\n",
       "    </tr>\n",
       "    <tr>\n",
       "      <th>14</th>\n",
       "      <td>30</td>\n",
       "    </tr>\n",
       "    <tr>\n",
       "      <th>15</th>\n",
       "      <td>68</td>\n",
       "    </tr>\n",
       "    <tr>\n",
       "      <th>16</th>\n",
       "      <td>38</td>\n",
       "    </tr>\n",
       "    <tr>\n",
       "      <th>17</th>\n",
       "      <td>56</td>\n",
       "    </tr>\n",
       "    <tr>\n",
       "      <th>18</th>\n",
       "      <td>67</td>\n",
       "    </tr>\n",
       "    <tr>\n",
       "      <th>19</th>\n",
       "      <td>94</td>\n",
       "    </tr>\n",
       "    <tr>\n",
       "      <th>20</th>\n",
       "      <td>89</td>\n",
       "    </tr>\n",
       "    <tr>\n",
       "      <th>21</th>\n",
       "      <td>89</td>\n",
       "    </tr>\n",
       "    <tr>\n",
       "      <th>22</th>\n",
       "      <td>151</td>\n",
       "    </tr>\n",
       "    <tr>\n",
       "      <th>23</th>\n",
       "      <td>163</td>\n",
       "    </tr>\n",
       "  </tbody>\n",
       "</table>\n",
       "</div>"
      ],
      "text/plain": [
       "     投稿数\n",
       "時間帯     \n",
       "0     14\n",
       "1      7\n",
       "2      5\n",
       "3     10\n",
       "4      8\n",
       "5      6\n",
       "6      2\n",
       "7      8\n",
       "8      5\n",
       "9     14\n",
       "10    13\n",
       "11    24\n",
       "12    30\n",
       "13    22\n",
       "14    30\n",
       "15    68\n",
       "16    38\n",
       "17    56\n",
       "18    67\n",
       "19    94\n",
       "20    89\n",
       "21    89\n",
       "22   151\n",
       "23   163"
      ]
     },
     "execution_count": 8,
     "metadata": {},
     "output_type": "execute_result"
    }
   ],
   "source": [
    "output = df.assign(datetime=df.apply(lambda x: pd.to_datetime(x.posted_at), axis=1))\n",
    "output = pd.DataFrame(output.groupby(output.datetime.map(lambda t: t.hour)).count()[\"id\"])\n",
    "output.index.name = \"時間帯\"\n",
    "output = output.rename(columns = {\"id\": \"投稿数\"})\n",
    "output.head(24)"
   ]
  },
  {
   "cell_type": "markdown",
   "metadata": {},
   "source": [
    "### カテゴリ別"
   ]
  },
  {
   "cell_type": "code",
   "execution_count": 9,
   "metadata": {},
   "outputs": [
    {
     "data": {
      "text/html": [
       "<div>\n",
       "<style scoped>\n",
       "    .dataframe tbody tr th:only-of-type {\n",
       "        vertical-align: middle;\n",
       "    }\n",
       "\n",
       "    .dataframe tbody tr th {\n",
       "        vertical-align: top;\n",
       "    }\n",
       "\n",
       "    .dataframe thead th {\n",
       "        text-align: right;\n",
       "    }\n",
       "</style>\n",
       "<table border=\"1\" class=\"dataframe\">\n",
       "  <thead>\n",
       "    <tr style=\"text-align: right;\">\n",
       "      <th></th>\n",
       "      <th>投稿数</th>\n",
       "    </tr>\n",
       "    <tr>\n",
       "      <th>カテゴリ</th>\n",
       "      <th></th>\n",
       "    </tr>\n",
       "  </thead>\n",
       "  <tbody>\n",
       "    <tr>\n",
       "      <th>すぐ会いたい</th>\n",
       "      <td>471</td>\n",
       "    </tr>\n",
       "    <tr>\n",
       "      <th>アダルト・H</th>\n",
       "      <td>180</td>\n",
       "    </tr>\n",
       "    <tr>\n",
       "      <th>今日じゃないけど...</th>\n",
       "      <td>137</td>\n",
       "    </tr>\n",
       "    <tr>\n",
       "      <th>大人の恋人候補</th>\n",
       "      <td>95</td>\n",
       "    </tr>\n",
       "    <tr>\n",
       "      <th>アブノーマル</th>\n",
       "      <td>74</td>\n",
       "    </tr>\n",
       "    <tr>\n",
       "      <th>ミドルエイジ</th>\n",
       "      <td>56</td>\n",
       "    </tr>\n",
       "  </tbody>\n",
       "</table>\n",
       "</div>"
      ],
      "text/plain": [
       "             投稿数\n",
       "カテゴリ            \n",
       "すぐ会いたい       471\n",
       "アダルト・H       180\n",
       "今日じゃないけど...  137\n",
       "大人の恋人候補       95\n",
       "アブノーマル        74\n",
       "ミドルエイジ        56"
      ]
     },
     "execution_count": 9,
     "metadata": {},
     "output_type": "execute_result"
    }
   ],
   "source": [
    "output = pd.DataFrame(df.groupby(\"genre\").count()[\"id\"])\n",
    "output.index.name = \"カテゴリ\"\n",
    "output = output.rename(columns = {\"id\": \"投稿数\"})\n",
    "output.sort_values(\"投稿数\", ascending=False).head(7)"
   ]
  },
  {
   "cell_type": "markdown",
   "metadata": {},
   "source": [
    "## 検索"
   ]
  },
  {
   "cell_type": "markdown",
   "metadata": {},
   "source": [
    "### キーワード検索"
   ]
  },
  {
   "cell_type": "code",
   "execution_count": 10,
   "metadata": {},
   "outputs": [],
   "source": [
    "#keyword = \"会いたい\"\n",
    "#df[df['title'].str.contains(keyword)]"
   ]
  },
  {
   "cell_type": "markdown",
   "metadata": {},
   "source": [
    "### 地域検索"
   ]
  },
  {
   "cell_type": "code",
   "execution_count": 11,
   "metadata": {},
   "outputs": [
    {
     "data": {
      "text/html": [
       "<div>\n",
       "<style scoped>\n",
       "    .dataframe tbody tr th:only-of-type {\n",
       "        vertical-align: middle;\n",
       "    }\n",
       "\n",
       "    .dataframe tbody tr th {\n",
       "        vertical-align: top;\n",
       "    }\n",
       "\n",
       "    .dataframe thead th {\n",
       "        text-align: right;\n",
       "    }\n",
       "</style>\n",
       "<table border=\"1\" class=\"dataframe\">\n",
       "  <thead>\n",
       "    <tr style=\"text-align: right;\">\n",
       "      <th></th>\n",
       "      <th>age</th>\n",
       "      <th>city</th>\n",
       "      <th>genre</th>\n",
       "      <th>id</th>\n",
       "      <th>name</th>\n",
       "      <th>posted_at</th>\n",
       "      <th>prefecture</th>\n",
       "      <th>profile_id</th>\n",
       "      <th>site</th>\n",
       "      <th>title</th>\n",
       "    </tr>\n",
       "  </thead>\n",
       "  <tbody>\n",
       "    <tr>\n",
       "      <th>714</th>\n",
       "      <td>40代後半</td>\n",
       "      <td>川崎市中原区</td>\n",
       "      <td>アダルト・H</td>\n",
       "      <td>136710709</td>\n",
       "      <td>ななみ</td>\n",
       "      <td>2020-01-03 23:40:00</td>\n",
       "      <td>神奈川県</td>\n",
       "      <td>NaN</td>\n",
       "      <td>ワクワクメール</td>\n",
       "      <td>サクッとエッチな事で会える車ある方待ってます</td>\n",
       "    </tr>\n",
       "    <tr>\n",
       "      <th>736</th>\n",
       "      <td>40代半ば</td>\n",
       "      <td>川崎市中原区</td>\n",
       "      <td>アダルト・H</td>\n",
       "      <td>136717054</td>\n",
       "      <td>めぐみ</td>\n",
       "      <td>2020-01-03 22:54:00</td>\n",
       "      <td>神奈川県</td>\n",
       "      <td>NaN</td>\n",
       "      <td>ワクワクメール</td>\n",
       "      <td>すぐ車ある人これからします？会えますよ</td>\n",
       "    </tr>\n",
       "    <tr>\n",
       "      <th>740</th>\n",
       "      <td>20代前半</td>\n",
       "      <td>川崎市中原区</td>\n",
       "      <td>アダルト・H</td>\n",
       "      <td>136722419</td>\n",
       "      <td>えな</td>\n",
       "      <td>2020-01-03 22:45:00</td>\n",
       "      <td>神奈川県</td>\n",
       "      <td>NaN</td>\n",
       "      <td>ワクワクメール</td>\n",
       "      <td>今から武蔵小杉の近くあえますか</td>\n",
       "    </tr>\n",
       "    <tr>\n",
       "      <th>759</th>\n",
       "      <td>40代後半</td>\n",
       "      <td>川崎市中原区</td>\n",
       "      <td>ミドルエイジ</td>\n",
       "      <td>136708009</td>\n",
       "      <td>ななみ</td>\n",
       "      <td>2020-01-03 23:37:00</td>\n",
       "      <td>神奈川県</td>\n",
       "      <td>NaN</td>\n",
       "      <td>ワクワクメール</td>\n",
       "      <td>車ある人エッチな事でサクッと会えますよ</td>\n",
       "    </tr>\n",
       "    <tr>\n",
       "      <th>769</th>\n",
       "      <td>40代半ば</td>\n",
       "      <td>川崎市中原区</td>\n",
       "      <td>ミドルエイジ</td>\n",
       "      <td>136720739</td>\n",
       "      <td>めぐみ</td>\n",
       "      <td>2020-01-03 22:54:00</td>\n",
       "      <td>神奈川県</td>\n",
       "      <td>NaN</td>\n",
       "      <td>ワクワクメール</td>\n",
       "      <td>見てくれた？約束しましょう</td>\n",
       "    </tr>\n",
       "    <tr>\n",
       "      <th>778</th>\n",
       "      <td>40代半ば</td>\n",
       "      <td>川崎市中原区</td>\n",
       "      <td>ミドルエイジ</td>\n",
       "      <td>136717102</td>\n",
       "      <td>ちゃみ</td>\n",
       "      <td>2020-01-03 19:42:00</td>\n",
       "      <td>神奈川県</td>\n",
       "      <td>NaN</td>\n",
       "      <td>ワクワクメール</td>\n",
       "      <td>40後半以降で</td>\n",
       "    </tr>\n",
       "    <tr>\n",
       "      <th>796</th>\n",
       "      <td>40代半ば</td>\n",
       "      <td>川崎市中原区</td>\n",
       "      <td>ミドルエイジ</td>\n",
       "      <td>136607300</td>\n",
       "      <td>ちゃみ</td>\n",
       "      <td>2019-12-30 23:39:00</td>\n",
       "      <td>神奈川県</td>\n",
       "      <td>NaN</td>\n",
       "      <td>ワクワクメール</td>\n",
       "      <td>深夜25時くらいに</td>\n",
       "    </tr>\n",
       "    <tr>\n",
       "      <th>801</th>\n",
       "      <td>40代後半</td>\n",
       "      <td>川崎市中原区</td>\n",
       "      <td>すぐ会いたい</td>\n",
       "      <td>136713606</td>\n",
       "      <td>ななみ</td>\n",
       "      <td>2020-01-03 23:43:00</td>\n",
       "      <td>神奈川県</td>\n",
       "      <td>NaN</td>\n",
       "      <td>ワクワクメール</td>\n",
       "      <td>今から徒歩じゃない人、エッチな事で会えますよ！</td>\n",
       "    </tr>\n",
       "    <tr>\n",
       "      <th>805</th>\n",
       "      <td>20代半ば</td>\n",
       "      <td>川崎市中原区</td>\n",
       "      <td>すぐ会いたい</td>\n",
       "      <td>136692102</td>\n",
       "      <td>マリー</td>\n",
       "      <td>2020-01-03 23:38:00</td>\n",
       "      <td>神奈川県</td>\n",
       "      <td>NaN</td>\n",
       "      <td>ワクワクメール</td>\n",
       "      <td>これから武蔵小杉辺り</td>\n",
       "    </tr>\n",
       "    <tr>\n",
       "      <th>859</th>\n",
       "      <td>40代半ば</td>\n",
       "      <td>川崎市中原区</td>\n",
       "      <td>すぐ会いたい</td>\n",
       "      <td>136712823</td>\n",
       "      <td>めぐみ</td>\n",
       "      <td>2020-01-03 22:54:00</td>\n",
       "      <td>神奈川県</td>\n",
       "      <td>NaN</td>\n",
       "      <td>ワクワクメール</td>\n",
       "      <td>内容みてね。します？今日限定メール待ってます</td>\n",
       "    </tr>\n",
       "    <tr>\n",
       "      <th>880</th>\n",
       "      <td>40代半ば</td>\n",
       "      <td>川崎市中原区</td>\n",
       "      <td>アダルト・H</td>\n",
       "      <td>136712944</td>\n",
       "      <td>エンジェル(*≧∀≦*)ハート</td>\n",
       "      <td>2020-01-03 16:58:00</td>\n",
       "      <td>神奈川県</td>\n",
       "      <td>NaN</td>\n",
       "      <td>ワクワクメール</td>\n",
       "      <td>今日じゃないですが・・ラブラブイチャイチャ</td>\n",
       "    </tr>\n",
       "    <tr>\n",
       "      <th>997</th>\n",
       "      <td>20代後半</td>\n",
       "      <td>川崎市中原区</td>\n",
       "      <td>すぐ会いたい</td>\n",
       "      <td>136696716</td>\n",
       "      <td>ｱｷ</td>\n",
       "      <td>2020-01-03 04:15:00</td>\n",
       "      <td>神奈川県</td>\n",
       "      <td>NaN</td>\n",
       "      <td>ワクワクメール</td>\n",
       "      <td>３日 ひめはじめ</td>\n",
       "    </tr>\n",
       "    <tr>\n",
       "      <th>1003</th>\n",
       "      <td>20代前半</td>\n",
       "      <td>川崎市中原区</td>\n",
       "      <td>すぐ会いたい</td>\n",
       "      <td>136689785</td>\n",
       "      <td>えな</td>\n",
       "      <td>2020-01-02 22:55:00</td>\n",
       "      <td>神奈川県</td>\n",
       "      <td>NaN</td>\n",
       "      <td>ワクワクメール</td>\n",
       "      <td>こんばんは\\r\\n今から、武蔵小杉の近くに会いたい</td>\n",
       "    </tr>\n",
       "  </tbody>\n",
       "</table>\n",
       "</div>"
      ],
      "text/plain": [
       "        age    city   genre         id             name            posted_at  \\\n",
       "714   40代後半  川崎市中原区  アダルト・H  136710709              ななみ  2020-01-03 23:40:00   \n",
       "736   40代半ば  川崎市中原区  アダルト・H  136717054              めぐみ  2020-01-03 22:54:00   \n",
       "740   20代前半  川崎市中原区  アダルト・H  136722419               えな  2020-01-03 22:45:00   \n",
       "759   40代後半  川崎市中原区  ミドルエイジ  136708009              ななみ  2020-01-03 23:37:00   \n",
       "769   40代半ば  川崎市中原区  ミドルエイジ  136720739              めぐみ  2020-01-03 22:54:00   \n",
       "778   40代半ば  川崎市中原区  ミドルエイジ  136717102              ちゃみ  2020-01-03 19:42:00   \n",
       "796   40代半ば  川崎市中原区  ミドルエイジ  136607300              ちゃみ  2019-12-30 23:39:00   \n",
       "801   40代後半  川崎市中原区  すぐ会いたい  136713606              ななみ  2020-01-03 23:43:00   \n",
       "805   20代半ば  川崎市中原区  すぐ会いたい  136692102              マリー  2020-01-03 23:38:00   \n",
       "859   40代半ば  川崎市中原区  すぐ会いたい  136712823              めぐみ  2020-01-03 22:54:00   \n",
       "880   40代半ば  川崎市中原区  アダルト・H  136712944  エンジェル(*≧∀≦*)ハート  2020-01-03 16:58:00   \n",
       "997   20代後半  川崎市中原区  すぐ会いたい  136696716               ｱｷ  2020-01-03 04:15:00   \n",
       "1003  20代前半  川崎市中原区  すぐ会いたい  136689785               えな  2020-01-02 22:55:00   \n",
       "\n",
       "     prefecture  profile_id     site                      title  \n",
       "714        神奈川県         NaN  ワクワクメール     サクッとエッチな事で会える車ある方待ってます  \n",
       "736        神奈川県         NaN  ワクワクメール        すぐ車ある人これからします？会えますよ  \n",
       "740        神奈川県         NaN  ワクワクメール            今から武蔵小杉の近くあえますか  \n",
       "759        神奈川県         NaN  ワクワクメール        車ある人エッチな事でサクッと会えますよ  \n",
       "769        神奈川県         NaN  ワクワクメール              見てくれた？約束しましょう  \n",
       "778        神奈川県         NaN  ワクワクメール                    40後半以降で  \n",
       "796        神奈川県         NaN  ワクワクメール                  深夜25時くらいに  \n",
       "801        神奈川県         NaN  ワクワクメール    今から徒歩じゃない人、エッチな事で会えますよ！  \n",
       "805        神奈川県         NaN  ワクワクメール                 これから武蔵小杉辺り  \n",
       "859        神奈川県         NaN  ワクワクメール     内容みてね。します？今日限定メール待ってます  \n",
       "880        神奈川県         NaN  ワクワクメール      今日じゃないですが・・ラブラブイチャイチャ  \n",
       "997        神奈川県         NaN  ワクワクメール                   ３日 ひめはじめ  \n",
       "1003       神奈川県         NaN  ワクワクメール  こんばんは\\r\\n今から、武蔵小杉の近くに会いたい  "
      ]
     },
     "execution_count": 11,
     "metadata": {},
     "output_type": "execute_result"
    }
   ],
   "source": [
    "area = \"川崎市中原区\"\n",
    "df[df['city'].str.contains(area)]"
   ]
  },
  {
   "cell_type": "markdown",
   "metadata": {},
   "source": [
    "## サクラ判定"
   ]
  },
  {
   "cell_type": "code",
   "execution_count": 12,
   "metadata": {},
   "outputs": [],
   "source": [
    "eval_df = df_master"
   ]
  },
  {
   "cell_type": "markdown",
   "metadata": {},
   "source": [
    "### 年齢によるフィルター"
   ]
  },
  {
   "cell_type": "code",
   "execution_count": 13,
   "metadata": {},
   "outputs": [
    {
     "ename": "ValueError",
     "evalue": "invalid literal for int() with base 10: '20代'",
     "output_type": "error",
     "traceback": [
      "\u001b[0;31m---------------------------------------------------------------------------\u001b[0m",
      "\u001b[0;31mValueError\u001b[0m                                Traceback (most recent call last)",
      "\u001b[0;32m<ipython-input-13-b009fb41dcd7>\u001b[0m in \u001b[0;36m<module>\u001b[0;34m\u001b[0m\n\u001b[1;32m      1\u001b[0m \u001b[0mold_age_list\u001b[0m \u001b[0;34m=\u001b[0m \u001b[0;34m[\u001b[0m\u001b[0;34m\"40代前半\"\u001b[0m\u001b[0;34m,\u001b[0m \u001b[0;34m\"40代半ば\"\u001b[0m\u001b[0;34m,\u001b[0m \u001b[0;34m\"40代後半\"\u001b[0m\u001b[0;34m,\u001b[0m \u001b[0;34m\"50代前半\"\u001b[0m\u001b[0;34m,\u001b[0m \u001b[0;34m\"50代半ば\"\u001b[0m\u001b[0;34m,\u001b[0m \u001b[0;34m\"60代前半\"\u001b[0m\u001b[0;34m,\u001b[0m \u001b[0;34m\"50代後半\"\u001b[0m\u001b[0;34m]\u001b[0m\u001b[0;34m\u001b[0m\u001b[0;34m\u001b[0m\u001b[0m\n\u001b[0;32m----> 2\u001b[0;31m \u001b[0meval_df\u001b[0m \u001b[0;34m=\u001b[0m \u001b[0meval_df\u001b[0m\u001b[0;34m[\u001b[0m\u001b[0meval_df\u001b[0m\u001b[0;34m.\u001b[0m\u001b[0mage\u001b[0m\u001b[0;34m.\u001b[0m\u001b[0mstr\u001b[0m\u001b[0;34m[\u001b[0m\u001b[0;34m:\u001b[0m\u001b[0;36m3\u001b[0m\u001b[0;34m]\u001b[0m\u001b[0;34m.\u001b[0m\u001b[0mastype\u001b[0m\u001b[0;34m(\u001b[0m\u001b[0mint\u001b[0m\u001b[0;34m)\u001b[0m \u001b[0;34m<\u001b[0m \u001b[0;36m40\u001b[0m\u001b[0;34m]\u001b[0m\u001b[0;34m\u001b[0m\u001b[0;34m\u001b[0m\u001b[0m\n\u001b[0m",
      "\u001b[0;32m~/miniconda3/envs/auto-matching/lib/python3.7/site-packages/pandas/core/generic.py\u001b[0m in \u001b[0;36mastype\u001b[0;34m(self, dtype, copy, errors, **kwargs)\u001b[0m\n\u001b[1;32m   5880\u001b[0m             \u001b[0;31m# else, only a single dtype is given\u001b[0m\u001b[0;34m\u001b[0m\u001b[0;34m\u001b[0m\u001b[0;34m\u001b[0m\u001b[0m\n\u001b[1;32m   5881\u001b[0m             new_data = self._data.astype(\n\u001b[0;32m-> 5882\u001b[0;31m                 \u001b[0mdtype\u001b[0m\u001b[0;34m=\u001b[0m\u001b[0mdtype\u001b[0m\u001b[0;34m,\u001b[0m \u001b[0mcopy\u001b[0m\u001b[0;34m=\u001b[0m\u001b[0mcopy\u001b[0m\u001b[0;34m,\u001b[0m \u001b[0merrors\u001b[0m\u001b[0;34m=\u001b[0m\u001b[0merrors\u001b[0m\u001b[0;34m,\u001b[0m \u001b[0;34m**\u001b[0m\u001b[0mkwargs\u001b[0m\u001b[0;34m\u001b[0m\u001b[0;34m\u001b[0m\u001b[0m\n\u001b[0m\u001b[1;32m   5883\u001b[0m             )\n\u001b[1;32m   5884\u001b[0m             \u001b[0;32mreturn\u001b[0m \u001b[0mself\u001b[0m\u001b[0;34m.\u001b[0m\u001b[0m_constructor\u001b[0m\u001b[0;34m(\u001b[0m\u001b[0mnew_data\u001b[0m\u001b[0;34m)\u001b[0m\u001b[0;34m.\u001b[0m\u001b[0m__finalize__\u001b[0m\u001b[0;34m(\u001b[0m\u001b[0mself\u001b[0m\u001b[0;34m)\u001b[0m\u001b[0;34m\u001b[0m\u001b[0;34m\u001b[0m\u001b[0m\n",
      "\u001b[0;32m~/miniconda3/envs/auto-matching/lib/python3.7/site-packages/pandas/core/internals/managers.py\u001b[0m in \u001b[0;36mastype\u001b[0;34m(self, dtype, **kwargs)\u001b[0m\n\u001b[1;32m    579\u001b[0m \u001b[0;34m\u001b[0m\u001b[0m\n\u001b[1;32m    580\u001b[0m     \u001b[0;32mdef\u001b[0m \u001b[0mastype\u001b[0m\u001b[0;34m(\u001b[0m\u001b[0mself\u001b[0m\u001b[0;34m,\u001b[0m \u001b[0mdtype\u001b[0m\u001b[0;34m,\u001b[0m \u001b[0;34m**\u001b[0m\u001b[0mkwargs\u001b[0m\u001b[0;34m)\u001b[0m\u001b[0;34m:\u001b[0m\u001b[0;34m\u001b[0m\u001b[0;34m\u001b[0m\u001b[0m\n\u001b[0;32m--> 581\u001b[0;31m         \u001b[0;32mreturn\u001b[0m \u001b[0mself\u001b[0m\u001b[0;34m.\u001b[0m\u001b[0mapply\u001b[0m\u001b[0;34m(\u001b[0m\u001b[0;34m\"astype\"\u001b[0m\u001b[0;34m,\u001b[0m \u001b[0mdtype\u001b[0m\u001b[0;34m=\u001b[0m\u001b[0mdtype\u001b[0m\u001b[0;34m,\u001b[0m \u001b[0;34m**\u001b[0m\u001b[0mkwargs\u001b[0m\u001b[0;34m)\u001b[0m\u001b[0;34m\u001b[0m\u001b[0;34m\u001b[0m\u001b[0m\n\u001b[0m\u001b[1;32m    582\u001b[0m \u001b[0;34m\u001b[0m\u001b[0m\n\u001b[1;32m    583\u001b[0m     \u001b[0;32mdef\u001b[0m \u001b[0mconvert\u001b[0m\u001b[0;34m(\u001b[0m\u001b[0mself\u001b[0m\u001b[0;34m,\u001b[0m \u001b[0;34m**\u001b[0m\u001b[0mkwargs\u001b[0m\u001b[0;34m)\u001b[0m\u001b[0;34m:\u001b[0m\u001b[0;34m\u001b[0m\u001b[0;34m\u001b[0m\u001b[0m\n",
      "\u001b[0;32m~/miniconda3/envs/auto-matching/lib/python3.7/site-packages/pandas/core/internals/managers.py\u001b[0m in \u001b[0;36mapply\u001b[0;34m(self, f, axes, filter, do_integrity_check, consolidate, **kwargs)\u001b[0m\n\u001b[1;32m    436\u001b[0m                     \u001b[0mkwargs\u001b[0m\u001b[0;34m[\u001b[0m\u001b[0mk\u001b[0m\u001b[0;34m]\u001b[0m \u001b[0;34m=\u001b[0m \u001b[0mobj\u001b[0m\u001b[0;34m.\u001b[0m\u001b[0mreindex\u001b[0m\u001b[0;34m(\u001b[0m\u001b[0mb_items\u001b[0m\u001b[0;34m,\u001b[0m \u001b[0maxis\u001b[0m\u001b[0;34m=\u001b[0m\u001b[0maxis\u001b[0m\u001b[0;34m,\u001b[0m \u001b[0mcopy\u001b[0m\u001b[0;34m=\u001b[0m\u001b[0malign_copy\u001b[0m\u001b[0;34m)\u001b[0m\u001b[0;34m\u001b[0m\u001b[0;34m\u001b[0m\u001b[0m\n\u001b[1;32m    437\u001b[0m \u001b[0;34m\u001b[0m\u001b[0m\n\u001b[0;32m--> 438\u001b[0;31m             \u001b[0mapplied\u001b[0m \u001b[0;34m=\u001b[0m \u001b[0mgetattr\u001b[0m\u001b[0;34m(\u001b[0m\u001b[0mb\u001b[0m\u001b[0;34m,\u001b[0m \u001b[0mf\u001b[0m\u001b[0;34m)\u001b[0m\u001b[0;34m(\u001b[0m\u001b[0;34m**\u001b[0m\u001b[0mkwargs\u001b[0m\u001b[0;34m)\u001b[0m\u001b[0;34m\u001b[0m\u001b[0;34m\u001b[0m\u001b[0m\n\u001b[0m\u001b[1;32m    439\u001b[0m             \u001b[0mresult_blocks\u001b[0m \u001b[0;34m=\u001b[0m \u001b[0m_extend_blocks\u001b[0m\u001b[0;34m(\u001b[0m\u001b[0mapplied\u001b[0m\u001b[0;34m,\u001b[0m \u001b[0mresult_blocks\u001b[0m\u001b[0;34m)\u001b[0m\u001b[0;34m\u001b[0m\u001b[0;34m\u001b[0m\u001b[0m\n\u001b[1;32m    440\u001b[0m \u001b[0;34m\u001b[0m\u001b[0m\n",
      "\u001b[0;32m~/miniconda3/envs/auto-matching/lib/python3.7/site-packages/pandas/core/internals/blocks.py\u001b[0m in \u001b[0;36mastype\u001b[0;34m(self, dtype, copy, errors, values, **kwargs)\u001b[0m\n\u001b[1;32m    557\u001b[0m \u001b[0;34m\u001b[0m\u001b[0m\n\u001b[1;32m    558\u001b[0m     \u001b[0;32mdef\u001b[0m \u001b[0mastype\u001b[0m\u001b[0;34m(\u001b[0m\u001b[0mself\u001b[0m\u001b[0;34m,\u001b[0m \u001b[0mdtype\u001b[0m\u001b[0;34m,\u001b[0m \u001b[0mcopy\u001b[0m\u001b[0;34m=\u001b[0m\u001b[0;32mFalse\u001b[0m\u001b[0;34m,\u001b[0m \u001b[0merrors\u001b[0m\u001b[0;34m=\u001b[0m\u001b[0;34m\"raise\"\u001b[0m\u001b[0;34m,\u001b[0m \u001b[0mvalues\u001b[0m\u001b[0;34m=\u001b[0m\u001b[0;32mNone\u001b[0m\u001b[0;34m,\u001b[0m \u001b[0;34m**\u001b[0m\u001b[0mkwargs\u001b[0m\u001b[0;34m)\u001b[0m\u001b[0;34m:\u001b[0m\u001b[0;34m\u001b[0m\u001b[0;34m\u001b[0m\u001b[0m\n\u001b[0;32m--> 559\u001b[0;31m         \u001b[0;32mreturn\u001b[0m \u001b[0mself\u001b[0m\u001b[0;34m.\u001b[0m\u001b[0m_astype\u001b[0m\u001b[0;34m(\u001b[0m\u001b[0mdtype\u001b[0m\u001b[0;34m,\u001b[0m \u001b[0mcopy\u001b[0m\u001b[0;34m=\u001b[0m\u001b[0mcopy\u001b[0m\u001b[0;34m,\u001b[0m \u001b[0merrors\u001b[0m\u001b[0;34m=\u001b[0m\u001b[0merrors\u001b[0m\u001b[0;34m,\u001b[0m \u001b[0mvalues\u001b[0m\u001b[0;34m=\u001b[0m\u001b[0mvalues\u001b[0m\u001b[0;34m,\u001b[0m \u001b[0;34m**\u001b[0m\u001b[0mkwargs\u001b[0m\u001b[0;34m)\u001b[0m\u001b[0;34m\u001b[0m\u001b[0;34m\u001b[0m\u001b[0m\n\u001b[0m\u001b[1;32m    560\u001b[0m \u001b[0;34m\u001b[0m\u001b[0m\n\u001b[1;32m    561\u001b[0m     \u001b[0;32mdef\u001b[0m \u001b[0m_astype\u001b[0m\u001b[0;34m(\u001b[0m\u001b[0mself\u001b[0m\u001b[0;34m,\u001b[0m \u001b[0mdtype\u001b[0m\u001b[0;34m,\u001b[0m \u001b[0mcopy\u001b[0m\u001b[0;34m=\u001b[0m\u001b[0;32mFalse\u001b[0m\u001b[0;34m,\u001b[0m \u001b[0merrors\u001b[0m\u001b[0;34m=\u001b[0m\u001b[0;34m\"raise\"\u001b[0m\u001b[0;34m,\u001b[0m \u001b[0mvalues\u001b[0m\u001b[0;34m=\u001b[0m\u001b[0;32mNone\u001b[0m\u001b[0;34m,\u001b[0m \u001b[0;34m**\u001b[0m\u001b[0mkwargs\u001b[0m\u001b[0;34m)\u001b[0m\u001b[0;34m:\u001b[0m\u001b[0;34m\u001b[0m\u001b[0;34m\u001b[0m\u001b[0m\n",
      "\u001b[0;32m~/miniconda3/envs/auto-matching/lib/python3.7/site-packages/pandas/core/internals/blocks.py\u001b[0m in \u001b[0;36m_astype\u001b[0;34m(self, dtype, copy, errors, values, **kwargs)\u001b[0m\n\u001b[1;32m    641\u001b[0m                     \u001b[0;31m# _astype_nansafe works fine with 1-d only\u001b[0m\u001b[0;34m\u001b[0m\u001b[0;34m\u001b[0m\u001b[0;34m\u001b[0m\u001b[0m\n\u001b[1;32m    642\u001b[0m                     \u001b[0mvals1d\u001b[0m \u001b[0;34m=\u001b[0m \u001b[0mvalues\u001b[0m\u001b[0;34m.\u001b[0m\u001b[0mravel\u001b[0m\u001b[0;34m(\u001b[0m\u001b[0;34m)\u001b[0m\u001b[0;34m\u001b[0m\u001b[0;34m\u001b[0m\u001b[0m\n\u001b[0;32m--> 643\u001b[0;31m                     \u001b[0mvalues\u001b[0m \u001b[0;34m=\u001b[0m \u001b[0mastype_nansafe\u001b[0m\u001b[0;34m(\u001b[0m\u001b[0mvals1d\u001b[0m\u001b[0;34m,\u001b[0m \u001b[0mdtype\u001b[0m\u001b[0;34m,\u001b[0m \u001b[0mcopy\u001b[0m\u001b[0;34m=\u001b[0m\u001b[0;32mTrue\u001b[0m\u001b[0;34m,\u001b[0m \u001b[0;34m**\u001b[0m\u001b[0mkwargs\u001b[0m\u001b[0;34m)\u001b[0m\u001b[0;34m\u001b[0m\u001b[0;34m\u001b[0m\u001b[0m\n\u001b[0m\u001b[1;32m    644\u001b[0m \u001b[0;34m\u001b[0m\u001b[0m\n\u001b[1;32m    645\u001b[0m                 \u001b[0;31m# TODO(extension)\u001b[0m\u001b[0;34m\u001b[0m\u001b[0;34m\u001b[0m\u001b[0;34m\u001b[0m\u001b[0m\n",
      "\u001b[0;32m~/miniconda3/envs/auto-matching/lib/python3.7/site-packages/pandas/core/dtypes/cast.py\u001b[0m in \u001b[0;36mastype_nansafe\u001b[0;34m(arr, dtype, copy, skipna)\u001b[0m\n\u001b[1;32m    705\u001b[0m         \u001b[0;31m# work around NumPy brokenness, #1987\u001b[0m\u001b[0;34m\u001b[0m\u001b[0;34m\u001b[0m\u001b[0;34m\u001b[0m\u001b[0m\n\u001b[1;32m    706\u001b[0m         \u001b[0;32mif\u001b[0m \u001b[0mnp\u001b[0m\u001b[0;34m.\u001b[0m\u001b[0missubdtype\u001b[0m\u001b[0;34m(\u001b[0m\u001b[0mdtype\u001b[0m\u001b[0;34m.\u001b[0m\u001b[0mtype\u001b[0m\u001b[0;34m,\u001b[0m \u001b[0mnp\u001b[0m\u001b[0;34m.\u001b[0m\u001b[0minteger\u001b[0m\u001b[0;34m)\u001b[0m\u001b[0;34m:\u001b[0m\u001b[0;34m\u001b[0m\u001b[0;34m\u001b[0m\u001b[0m\n\u001b[0;32m--> 707\u001b[0;31m             \u001b[0;32mreturn\u001b[0m \u001b[0mlib\u001b[0m\u001b[0;34m.\u001b[0m\u001b[0mastype_intsafe\u001b[0m\u001b[0;34m(\u001b[0m\u001b[0marr\u001b[0m\u001b[0;34m.\u001b[0m\u001b[0mravel\u001b[0m\u001b[0;34m(\u001b[0m\u001b[0;34m)\u001b[0m\u001b[0;34m,\u001b[0m \u001b[0mdtype\u001b[0m\u001b[0;34m)\u001b[0m\u001b[0;34m.\u001b[0m\u001b[0mreshape\u001b[0m\u001b[0;34m(\u001b[0m\u001b[0marr\u001b[0m\u001b[0;34m.\u001b[0m\u001b[0mshape\u001b[0m\u001b[0;34m)\u001b[0m\u001b[0;34m\u001b[0m\u001b[0;34m\u001b[0m\u001b[0m\n\u001b[0m\u001b[1;32m    708\u001b[0m \u001b[0;34m\u001b[0m\u001b[0m\n\u001b[1;32m    709\u001b[0m         \u001b[0;31m# if we have a datetime/timedelta array of objects\u001b[0m\u001b[0;34m\u001b[0m\u001b[0;34m\u001b[0m\u001b[0;34m\u001b[0m\u001b[0m\n",
      "\u001b[0;32mpandas/_libs/lib.pyx\u001b[0m in \u001b[0;36mpandas._libs.lib.astype_intsafe\u001b[0;34m()\u001b[0m\n",
      "\u001b[0;31mValueError\u001b[0m: invalid literal for int() with base 10: '20代'"
     ]
    }
   ],
   "source": [
    "old_age_list = [\"40代前半\", \"40代半ば\", \"40代後半\", \"50代前半\", \"50代半ば\", \"60代前半\", \"50代後半\"]\n",
    "eval_df = eval_df[eval_df.age.str[:2].astype(int) < 40]"
   ]
  },
  {
   "cell_type": "markdown",
   "metadata": {},
   "source": [
    "### NGワードによるフィルター"
   ]
  },
  {
   "cell_type": "code",
   "execution_count": null,
   "metadata": {},
   "outputs": [],
   "source": [
    "ng_words = [\"ニューハーフ\", \"下着\", \"生\", \"ftm\", \"MTF\", \"ビッチ\", \"お願い\", \n",
    "            \"イラマ\", \"オネエ\", \"痴漢\", \"男の娘\", \"車\", \"バイ\",\n",
    "            \"おなべ\", \"ハメ撮り\", \"はめ撮り\", \"初体験\", \"処女\", \"童貞\"]\n",
    "\n",
    "def proc(x):\n",
    "    for ng_word in ng_words:\n",
    "        if ng_word in x:\n",
    "            return True\n",
    "    return False\n",
    "\n",
    "mask = eval_df[\"title\"].map(proc).map(lambda x: not x)\n",
    "eval_df = eval_df[mask]"
   ]
  },
  {
   "cell_type": "markdown",
   "metadata": {},
   "source": [
    "### 長すぎる名前のフィルター"
   ]
  },
  {
   "cell_type": "code",
   "execution_count": null,
   "metadata": {},
   "outputs": [],
   "source": [
    "def proc(x):\n",
    "    if type(x) == str:\n",
    "        return len(x) < 10\n",
    "    else:\n",
    "        return True\n",
    "\n",
    "mask = eval_df[\"name\"].map(proc)\n",
    "eval_df = eval_df[mask]"
   ]
  },
  {
   "cell_type": "markdown",
   "metadata": {},
   "source": [
    "### タイトルの出現頻度\n",
    "タイトルの出現頻度による評価。頻度もさらに2回の頻度、3回以上の頻度で細分化できる。"
   ]
  },
  {
   "cell_type": "code",
   "execution_count": null,
   "metadata": {},
   "outputs": [],
   "source": [
    "duplicated_title_df = pd.DataFrame(eval_df.groupby(\"title\").count())\n",
    "output = duplicated_title_df.sort_values(\"id\", ascending=False)"
   ]
  },
  {
   "cell_type": "code",
   "execution_count": null,
   "metadata": {},
   "outputs": [],
   "source": [
    "output = pd.DataFrame(output[\"id\"])\n",
    "output.index.name = \"title\"\n",
    "output = output.rename(columns = {\"id\": \"title_freq\"})"
   ]
  },
  {
   "cell_type": "code",
   "execution_count": null,
   "metadata": {},
   "outputs": [],
   "source": [
    "eval_df = pd.merge(eval_df, output, on=\"title\", how=\"left\")"
   ]
  },
  {
   "cell_type": "markdown",
   "metadata": {},
   "source": [
    "### プロフィールの出現頻度"
   ]
  },
  {
   "cell_type": "code",
   "execution_count": null,
   "metadata": {},
   "outputs": [],
   "source": [
    "# eval_df[\"name_age_city\"] = eval_df[\"name\"] + \"_\" + eval_df[\"age\"] + \"_\" + eval_df[\"city\"]\n",
    "eval_df[\"name_age_city\"] = eval_df[\"name\"] + \"_\" + eval_df[\"age\"]\n",
    "output = pd.DataFrame(eval_df.groupby(\"name_age_city\").count())"
   ]
  },
  {
   "cell_type": "code",
   "execution_count": null,
   "metadata": {},
   "outputs": [],
   "source": [
    "output = pd.DataFrame(output[\"id\"])\n",
    "output.index.name = \"name_age_city\"\n",
    "output = output.rename(columns = {\"id\": \"profile_freq\"})"
   ]
  },
  {
   "cell_type": "code",
   "execution_count": null,
   "metadata": {},
   "outputs": [],
   "source": [
    "output[output.profile_freq == 1]"
   ]
  },
  {
   "cell_type": "code",
   "execution_count": null,
   "metadata": {},
   "outputs": [],
   "source": [
    "eval_df = pd.merge(eval_df, output, on=\"name_age_city\", how=\"left\")"
   ]
  },
  {
   "cell_type": "markdown",
   "metadata": {},
   "source": [
    "## 結果"
   ]
  },
  {
   "cell_type": "code",
   "execution_count": null,
   "metadata": {},
   "outputs": [],
   "source": [
    "result = eval_df\n",
    "result = result.assign(datetime=result.apply(lambda x: to_datetime(x.post_at), axis=1))\n",
    "result = result.sort_values(\"datetime\")\n",
    "\n",
    "one_day_ago = datetime.datetime.now() - datetime.timedelta(days=1)\n",
    "result = result[result.datetime > one_day_ago]\n",
    "\n",
    "result = result[(result.profile_freq == 1) & (result.title_freq == 1) ]"
   ]
  },
  {
   "cell_type": "code",
   "execution_count": null,
   "metadata": {},
   "outputs": [],
   "source": [
    "out = result.drop([\"url\", \"image_url\", \"title_freq\", \"profile_freq\", \"name_age_city\", \"datetime\"], axis=1)"
   ]
  },
  {
   "cell_type": "code",
   "execution_count": null,
   "metadata": {},
   "outputs": [],
   "source": [
    "len(out)"
   ]
  },
  {
   "cell_type": "code",
   "execution_count": null,
   "metadata": {},
   "outputs": [],
   "source": [
    "out_file_name = \"wakuwaku_out.csv\"\n",
    "out.to_csv(\"./../data/\" + out_file_name)"
   ]
  },
  {
   "cell_type": "code",
   "execution_count": null,
   "metadata": {},
   "outputs": [],
   "source": []
  }
 ],
 "metadata": {
  "kernelspec": {
   "display_name": "Environment (conda_auto-matching)",
   "language": "python",
   "name": "conda_auto-matching"
  },
  "language_info": {
   "codemirror_mode": {
    "name": "ipython",
    "version": 3
   },
   "file_extension": ".py",
   "mimetype": "text/x-python",
   "name": "python",
   "nbconvert_exporter": "python",
   "pygments_lexer": "ipython3",
   "version": "3.7.5"
  }
 },
 "nbformat": 4,
 "nbformat_minor": 2
}
