{
 "cells": [
  {
   "cell_type": "markdown",
   "metadata": {},
   "source": [
    "# ワクワクメールのデータ分析"
   ]
  },
  {
   "cell_type": "code",
   "execution_count": 1,
   "metadata": {},
   "outputs": [],
   "source": [
    "import pandas as pd\n",
    "import datetime\n",
    "import seaborn as sns\n",
    "import japanize_matplotlib"
   ]
  },
  {
   "cell_type": "code",
   "execution_count": 2,
   "metadata": {},
   "outputs": [],
   "source": [
    "TOKYO_FILE_PATH = './../rawdata/wakuwaku_tokyo.csv'\n",
    "KANAGAWA_FILE_PATH = './../rawdata/wakuwaku_kanagawa.csv'\n",
    "\n",
    "tokyo_df = pd.read_csv(TOKYO_FILE_PATH)\n",
    "kanagawa_df = pd.read_csv(KANAGAWA_FILE_PATH)"
   ]
  },
  {
   "cell_type": "code",
   "execution_count": 3,
   "metadata": {},
   "outputs": [
    {
     "data": {
      "text/plain": [
       "(945, 467)"
      ]
     },
     "execution_count": 3,
     "metadata": {},
     "output_type": "execute_result"
    }
   ],
   "source": [
    "(len(tokyo_df), len(kanagawa_df))"
   ]
  },
  {
   "cell_type": "code",
   "execution_count": 4,
   "metadata": {},
   "outputs": [],
   "source": [
    "df_master = pd.merge(tokyo_df, kanagawa_df, how=\"outer\")\n",
    "df = df_master.drop([\"image_url\", \"url\"], axis=1)"
   ]
  },
  {
   "cell_type": "code",
   "execution_count": 5,
   "metadata": {},
   "outputs": [
    {
     "name": "stdout",
     "output_type": "stream",
     "text": [
      "1412\n"
     ]
    }
   ],
   "source": [
    "print(len(df))\n",
    "# df.head()"
   ]
  },
  {
   "cell_type": "markdown",
   "metadata": {},
   "source": [
    "## データ分析"
   ]
  },
  {
   "cell_type": "markdown",
   "metadata": {},
   "source": [
    "### 地域別"
   ]
  },
  {
   "cell_type": "code",
   "execution_count": 6,
   "metadata": {},
   "outputs": [
    {
     "data": {
      "text/html": [
       "<div>\n",
       "<style scoped>\n",
       "    .dataframe tbody tr th:only-of-type {\n",
       "        vertical-align: middle;\n",
       "    }\n",
       "\n",
       "    .dataframe tbody tr th {\n",
       "        vertical-align: top;\n",
       "    }\n",
       "\n",
       "    .dataframe thead th {\n",
       "        text-align: right;\n",
       "    }\n",
       "</style>\n",
       "<table border=\"1\" class=\"dataframe\">\n",
       "  <thead>\n",
       "    <tr style=\"text-align: right;\">\n",
       "      <th></th>\n",
       "      <th>投稿数</th>\n",
       "    </tr>\n",
       "    <tr>\n",
       "      <th>地域</th>\n",
       "      <th></th>\n",
       "    </tr>\n",
       "  </thead>\n",
       "  <tbody>\n",
       "    <tr>\n",
       "      <th>新宿区</th>\n",
       "      <td>273</td>\n",
       "    </tr>\n",
       "    <tr>\n",
       "      <th>豊島区</th>\n",
       "      <td>189</td>\n",
       "    </tr>\n",
       "    <tr>\n",
       "      <th>横浜市西区</th>\n",
       "      <td>75</td>\n",
       "    </tr>\n",
       "    <tr>\n",
       "      <th>横浜市中区</th>\n",
       "      <td>42</td>\n",
       "    </tr>\n",
       "    <tr>\n",
       "      <th>台東区</th>\n",
       "      <td>42</td>\n",
       "    </tr>\n",
       "    <tr>\n",
       "      <th>足立区</th>\n",
       "      <td>35</td>\n",
       "    </tr>\n",
       "    <tr>\n",
       "      <th>渋谷区</th>\n",
       "      <td>35</td>\n",
       "    </tr>\n",
       "    <tr>\n",
       "      <th>川崎市川崎区</th>\n",
       "      <td>26</td>\n",
       "    </tr>\n",
       "    <tr>\n",
       "      <th>品川区</th>\n",
       "      <td>26</td>\n",
       "    </tr>\n",
       "    <tr>\n",
       "      <th>横浜市神奈川区</th>\n",
       "      <td>24</td>\n",
       "    </tr>\n",
       "  </tbody>\n",
       "</table>\n",
       "</div>"
      ],
      "text/plain": [
       "         投稿数\n",
       "地域          \n",
       "新宿区      273\n",
       "豊島区      189\n",
       "横浜市西区     75\n",
       "横浜市中区     42\n",
       "台東区       42\n",
       "足立区       35\n",
       "渋谷区       35\n",
       "川崎市川崎区    26\n",
       "品川区       26\n",
       "横浜市神奈川区   24"
      ]
     },
     "execution_count": 6,
     "metadata": {},
     "output_type": "execute_result"
    }
   ],
   "source": [
    "output = pd.DataFrame(df.groupby(\"city\").count()[\"id\"])\n",
    "output.index.name = \"地域\"\n",
    "output = output.rename(columns = {\"id\": \"投稿数\"})\n",
    "output.sort_values(\"投稿数\", ascending=False).head(10)"
   ]
  },
  {
   "cell_type": "markdown",
   "metadata": {},
   "source": [
    "### 年代別"
   ]
  },
  {
   "cell_type": "code",
   "execution_count": 7,
   "metadata": {},
   "outputs": [
    {
     "data": {
      "text/html": [
       "<div>\n",
       "<style scoped>\n",
       "    .dataframe tbody tr th:only-of-type {\n",
       "        vertical-align: middle;\n",
       "    }\n",
       "\n",
       "    .dataframe tbody tr th {\n",
       "        vertical-align: top;\n",
       "    }\n",
       "\n",
       "    .dataframe thead th {\n",
       "        text-align: right;\n",
       "    }\n",
       "</style>\n",
       "<table border=\"1\" class=\"dataframe\">\n",
       "  <thead>\n",
       "    <tr style=\"text-align: right;\">\n",
       "      <th></th>\n",
       "      <th>投稿数</th>\n",
       "    </tr>\n",
       "    <tr>\n",
       "      <th>年代</th>\n",
       "      <th></th>\n",
       "    </tr>\n",
       "  </thead>\n",
       "  <tbody>\n",
       "    <tr>\n",
       "      <th>20代前半</th>\n",
       "      <td>521</td>\n",
       "    </tr>\n",
       "    <tr>\n",
       "      <th>20代半ば</th>\n",
       "      <td>225</td>\n",
       "    </tr>\n",
       "    <tr>\n",
       "      <th>20代後半</th>\n",
       "      <td>166</td>\n",
       "    </tr>\n",
       "    <tr>\n",
       "      <th>18-19歳</th>\n",
       "      <td>153</td>\n",
       "    </tr>\n",
       "    <tr>\n",
       "      <th>30代前半</th>\n",
       "      <td>135</td>\n",
       "    </tr>\n",
       "    <tr>\n",
       "      <th>30代半ば</th>\n",
       "      <td>66</td>\n",
       "    </tr>\n",
       "    <tr>\n",
       "      <th>30代後半</th>\n",
       "      <td>51</td>\n",
       "    </tr>\n",
       "    <tr>\n",
       "      <th>40代前半</th>\n",
       "      <td>33</td>\n",
       "    </tr>\n",
       "    <tr>\n",
       "      <th>40代半ば</th>\n",
       "      <td>27</td>\n",
       "    </tr>\n",
       "    <tr>\n",
       "      <th>40代後半</th>\n",
       "      <td>14</td>\n",
       "    </tr>\n",
       "    <tr>\n",
       "      <th>50代前半</th>\n",
       "      <td>10</td>\n",
       "    </tr>\n",
       "    <tr>\n",
       "      <th>50代半ば</th>\n",
       "      <td>4</td>\n",
       "    </tr>\n",
       "    <tr>\n",
       "      <th>60代前半</th>\n",
       "      <td>4</td>\n",
       "    </tr>\n",
       "    <tr>\n",
       "      <th>50代後半</th>\n",
       "      <td>3</td>\n",
       "    </tr>\n",
       "  </tbody>\n",
       "</table>\n",
       "</div>"
      ],
      "text/plain": [
       "         投稿数\n",
       "年代          \n",
       " 20代前半   521\n",
       " 20代半ば   225\n",
       " 20代後半   166\n",
       " 18-19歳  153\n",
       " 30代前半   135\n",
       " 30代半ば    66\n",
       " 30代後半    51\n",
       " 40代前半    33\n",
       " 40代半ば    27\n",
       " 40代後半    14\n",
       " 50代前半    10\n",
       " 50代半ば     4\n",
       " 60代前半     4\n",
       " 50代後半     3"
      ]
     },
     "execution_count": 7,
     "metadata": {},
     "output_type": "execute_result"
    }
   ],
   "source": [
    "output = pd.DataFrame(df.groupby(\"age\").count()[\"id\"])\n",
    "output.index.name = \"年代\"\n",
    "output = output.rename(columns = {\"id\": \"投稿数\"})\n",
    "output.sort_values(\"投稿数\", ascending=False).head(20)"
   ]
  },
  {
   "cell_type": "markdown",
   "metadata": {},
   "source": [
    "### 時間帯別"
   ]
  },
  {
   "cell_type": "code",
   "execution_count": 8,
   "metadata": {},
   "outputs": [
    {
     "data": {
      "text/html": [
       "<div>\n",
       "<style scoped>\n",
       "    .dataframe tbody tr th:only-of-type {\n",
       "        vertical-align: middle;\n",
       "    }\n",
       "\n",
       "    .dataframe tbody tr th {\n",
       "        vertical-align: top;\n",
       "    }\n",
       "\n",
       "    .dataframe thead th {\n",
       "        text-align: right;\n",
       "    }\n",
       "</style>\n",
       "<table border=\"1\" class=\"dataframe\">\n",
       "  <thead>\n",
       "    <tr style=\"text-align: right;\">\n",
       "      <th></th>\n",
       "      <th>投稿数</th>\n",
       "    </tr>\n",
       "    <tr>\n",
       "      <th>時間帯</th>\n",
       "      <th></th>\n",
       "    </tr>\n",
       "  </thead>\n",
       "  <tbody>\n",
       "    <tr>\n",
       "      <th>0</th>\n",
       "      <td>36</td>\n",
       "    </tr>\n",
       "    <tr>\n",
       "      <th>1</th>\n",
       "      <td>34</td>\n",
       "    </tr>\n",
       "    <tr>\n",
       "      <th>2</th>\n",
       "      <td>24</td>\n",
       "    </tr>\n",
       "    <tr>\n",
       "      <th>3</th>\n",
       "      <td>21</td>\n",
       "    </tr>\n",
       "    <tr>\n",
       "      <th>4</th>\n",
       "      <td>13</td>\n",
       "    </tr>\n",
       "    <tr>\n",
       "      <th>5</th>\n",
       "      <td>19</td>\n",
       "    </tr>\n",
       "    <tr>\n",
       "      <th>6</th>\n",
       "      <td>10</td>\n",
       "    </tr>\n",
       "    <tr>\n",
       "      <th>7</th>\n",
       "      <td>20</td>\n",
       "    </tr>\n",
       "    <tr>\n",
       "      <th>8</th>\n",
       "      <td>33</td>\n",
       "    </tr>\n",
       "    <tr>\n",
       "      <th>9</th>\n",
       "      <td>34</td>\n",
       "    </tr>\n",
       "    <tr>\n",
       "      <th>10</th>\n",
       "      <td>33</td>\n",
       "    </tr>\n",
       "    <tr>\n",
       "      <th>11</th>\n",
       "      <td>70</td>\n",
       "    </tr>\n",
       "    <tr>\n",
       "      <th>12</th>\n",
       "      <td>56</td>\n",
       "    </tr>\n",
       "    <tr>\n",
       "      <th>13</th>\n",
       "      <td>88</td>\n",
       "    </tr>\n",
       "    <tr>\n",
       "      <th>14</th>\n",
       "      <td>96</td>\n",
       "    </tr>\n",
       "    <tr>\n",
       "      <th>15</th>\n",
       "      <td>137</td>\n",
       "    </tr>\n",
       "    <tr>\n",
       "      <th>16</th>\n",
       "      <td>195</td>\n",
       "    </tr>\n",
       "    <tr>\n",
       "      <th>17</th>\n",
       "      <td>94</td>\n",
       "    </tr>\n",
       "    <tr>\n",
       "      <th>18</th>\n",
       "      <td>62</td>\n",
       "    </tr>\n",
       "    <tr>\n",
       "      <th>19</th>\n",
       "      <td>79</td>\n",
       "    </tr>\n",
       "    <tr>\n",
       "      <th>20</th>\n",
       "      <td>74</td>\n",
       "    </tr>\n",
       "    <tr>\n",
       "      <th>21</th>\n",
       "      <td>64</td>\n",
       "    </tr>\n",
       "    <tr>\n",
       "      <th>22</th>\n",
       "      <td>60</td>\n",
       "    </tr>\n",
       "    <tr>\n",
       "      <th>23</th>\n",
       "      <td>60</td>\n",
       "    </tr>\n",
       "  </tbody>\n",
       "</table>\n",
       "</div>"
      ],
      "text/plain": [
       "     投稿数\n",
       "時間帯     \n",
       "0     36\n",
       "1     34\n",
       "2     24\n",
       "3     21\n",
       "4     13\n",
       "5     19\n",
       "6     10\n",
       "7     20\n",
       "8     33\n",
       "9     34\n",
       "10    33\n",
       "11    70\n",
       "12    56\n",
       "13    88\n",
       "14    96\n",
       "15   137\n",
       "16   195\n",
       "17    94\n",
       "18    62\n",
       "19    79\n",
       "20    74\n",
       "21    64\n",
       "22    60\n",
       "23    60"
      ]
     },
     "execution_count": 8,
     "metadata": {},
     "output_type": "execute_result"
    }
   ],
   "source": [
    "def to_datetime(x):\n",
    "    try:\n",
    "        return datetime.datetime.strptime(x, '%Y/%m/%d %H:%M')                                        \n",
    "    except Exception:\n",
    "        now = datetime.datetime.now()\n",
    "        post_at = datetime.datetime.strptime(x, '%m/%d %H:%M')\n",
    "        if now.month == 1 and post_at.month == 12:\n",
    "            post_at = post_at.replace(year=now.year - 1)\n",
    "        else:\n",
    "            post_at = post_at.replace(year=now.year)\n",
    "        return post_at\n",
    "\n",
    "output = df.assign(datetime=df.apply(lambda x: to_datetime(x.post_at), axis=1))\n",
    "output = pd.DataFrame(output.groupby(output.datetime.map(lambda t: t.hour)).count()[\"id\"])\n",
    "output.index.name = \"時間帯\"\n",
    "output = output.rename(columns = {\"id\": \"投稿数\"})\n",
    "output.head(24)"
   ]
  },
  {
   "cell_type": "markdown",
   "metadata": {},
   "source": [
    "### カテゴリ別"
   ]
  },
  {
   "cell_type": "code",
   "execution_count": 9,
   "metadata": {},
   "outputs": [
    {
     "data": {
      "text/html": [
       "<div>\n",
       "<style scoped>\n",
       "    .dataframe tbody tr th:only-of-type {\n",
       "        vertical-align: middle;\n",
       "    }\n",
       "\n",
       "    .dataframe tbody tr th {\n",
       "        vertical-align: top;\n",
       "    }\n",
       "\n",
       "    .dataframe thead th {\n",
       "        text-align: right;\n",
       "    }\n",
       "</style>\n",
       "<table border=\"1\" class=\"dataframe\">\n",
       "  <thead>\n",
       "    <tr style=\"text-align: right;\">\n",
       "      <th></th>\n",
       "      <th>投稿数</th>\n",
       "    </tr>\n",
       "    <tr>\n",
       "      <th>カテゴリ</th>\n",
       "      <th></th>\n",
       "    </tr>\n",
       "  </thead>\n",
       "  <tbody>\n",
       "    <tr>\n",
       "      <th>すぐ会いたい</th>\n",
       "      <td>1198</td>\n",
       "    </tr>\n",
       "    <tr>\n",
       "      <th>今日じゃないけど...</th>\n",
       "      <td>40</td>\n",
       "    </tr>\n",
       "    <tr>\n",
       "      <th>大人の恋人候補</th>\n",
       "      <td>40</td>\n",
       "    </tr>\n",
       "    <tr>\n",
       "      <th>ミドルエイジ</th>\n",
       "      <td>39</td>\n",
       "    </tr>\n",
       "    <tr>\n",
       "      <th>アブノーマル</th>\n",
       "      <td>38</td>\n",
       "    </tr>\n",
       "    <tr>\n",
       "      <th>アダルト・H</th>\n",
       "      <td>37</td>\n",
       "    </tr>\n",
       "    <tr>\n",
       "      <th>既婚者</th>\n",
       "      <td>20</td>\n",
       "    </tr>\n",
       "  </tbody>\n",
       "</table>\n",
       "</div>"
      ],
      "text/plain": [
       "              投稿数\n",
       "カテゴリ             \n",
       "すぐ会いたい       1198\n",
       "今日じゃないけど...    40\n",
       "大人の恋人候補        40\n",
       "ミドルエイジ         39\n",
       "アブノーマル         38\n",
       "アダルト・H         37\n",
       "既婚者            20"
      ]
     },
     "execution_count": 9,
     "metadata": {},
     "output_type": "execute_result"
    }
   ],
   "source": [
    "output = pd.DataFrame(df.groupby(\"genre\").count()[\"id\"])\n",
    "output.index.name = \"カテゴリ\"\n",
    "output = output.rename(columns = {\"id\": \"投稿数\"})\n",
    "output.sort_values(\"投稿数\", ascending=False).head(7)"
   ]
  },
  {
   "cell_type": "markdown",
   "metadata": {},
   "source": [
    "## 検索"
   ]
  },
  {
   "cell_type": "markdown",
   "metadata": {},
   "source": [
    "### キーワード検索"
   ]
  },
  {
   "cell_type": "code",
   "execution_count": 10,
   "metadata": {},
   "outputs": [],
   "source": [
    "#keyword = \"会いたい\"\n",
    "#df[df['title'].str.contains(keyword)]"
   ]
  },
  {
   "cell_type": "markdown",
   "metadata": {},
   "source": [
    "### 地域検索"
   ]
  },
  {
   "cell_type": "code",
   "execution_count": 11,
   "metadata": {},
   "outputs": [
    {
     "data": {
      "text/html": [
       "<div>\n",
       "<style scoped>\n",
       "    .dataframe tbody tr th:only-of-type {\n",
       "        vertical-align: middle;\n",
       "    }\n",
       "\n",
       "    .dataframe tbody tr th {\n",
       "        vertical-align: top;\n",
       "    }\n",
       "\n",
       "    .dataframe thead th {\n",
       "        text-align: right;\n",
       "    }\n",
       "</style>\n",
       "<table border=\"1\" class=\"dataframe\">\n",
       "  <thead>\n",
       "    <tr style=\"text-align: right;\">\n",
       "      <th></th>\n",
       "      <th>age</th>\n",
       "      <th>city</th>\n",
       "      <th>genre</th>\n",
       "      <th>id</th>\n",
       "      <th>name</th>\n",
       "      <th>post_at</th>\n",
       "      <th>prefecture</th>\n",
       "      <th>title</th>\n",
       "    </tr>\n",
       "  </thead>\n",
       "  <tbody>\n",
       "    <tr>\n",
       "      <th>951</th>\n",
       "      <td>40代前半</td>\n",
       "      <td>川崎市中原区</td>\n",
       "      <td>既婚者</td>\n",
       "      <td>135271732</td>\n",
       "      <td>ﾁｬｲ</td>\n",
       "      <td>2019/11/18  0:14</td>\n",
       "      <td>神奈川県</td>\n",
       "      <td>三桁ポチャの私と不倫しませんか？</td>\n",
       "    </tr>\n",
       "    <tr>\n",
       "      <th>986</th>\n",
       "      <td>40代後半</td>\n",
       "      <td>川崎市中原区</td>\n",
       "      <td>アダルト・H</td>\n",
       "      <td>136649400</td>\n",
       "      <td>ななみ</td>\n",
       "      <td>1/1 15:26</td>\n",
       "      <td>神奈川県</td>\n",
       "      <td>サクッとエッチな事で会える車ある方待ってます</td>\n",
       "    </tr>\n",
       "    <tr>\n",
       "      <th>1051</th>\n",
       "      <td>40代後半</td>\n",
       "      <td>川崎市中原区</td>\n",
       "      <td>ミドルエイジ</td>\n",
       "      <td>136647507</td>\n",
       "      <td>ななみ</td>\n",
       "      <td>1/1 13:55</td>\n",
       "      <td>神奈川県</td>\n",
       "      <td>車ある人エッチな事でサクッと会えますよ</td>\n",
       "    </tr>\n",
       "    <tr>\n",
       "      <th>1054</th>\n",
       "      <td>40代半ば</td>\n",
       "      <td>川崎市中原区</td>\n",
       "      <td>ミドルエイジ</td>\n",
       "      <td>136633157</td>\n",
       "      <td>めぐみ</td>\n",
       "      <td>2019/12/31 23:51</td>\n",
       "      <td>神奈川県</td>\n",
       "      <td>見てくれた？約束しましょう</td>\n",
       "    </tr>\n",
       "    <tr>\n",
       "      <th>1061</th>\n",
       "      <td>40代半ば</td>\n",
       "      <td>川崎市中原区</td>\n",
       "      <td>ミドルエイジ</td>\n",
       "      <td>136607300</td>\n",
       "      <td>ちゃみ</td>\n",
       "      <td>2019/12/30 23:39</td>\n",
       "      <td>神奈川県</td>\n",
       "      <td>深夜25時くらいに</td>\n",
       "    </tr>\n",
       "    <tr>\n",
       "      <th>1064</th>\n",
       "      <td>40代半ば</td>\n",
       "      <td>川崎市中原区</td>\n",
       "      <td>ミドルエイジ</td>\n",
       "      <td>136574168</td>\n",
       "      <td>ちゃみ</td>\n",
       "      <td>2019/12/29 20:48</td>\n",
       "      <td>神奈川県</td>\n",
       "      <td>深夜25時くらいに</td>\n",
       "    </tr>\n",
       "    <tr>\n",
       "      <th>1067</th>\n",
       "      <td>40代半ば</td>\n",
       "      <td>川崎市中原区</td>\n",
       "      <td>ミドルエイジ</td>\n",
       "      <td>136541043</td>\n",
       "      <td>ちゃみ</td>\n",
       "      <td>2019/12/28 23:48</td>\n",
       "      <td>神奈川県</td>\n",
       "      <td>深夜25時くらいに</td>\n",
       "    </tr>\n",
       "    <tr>\n",
       "      <th>1075</th>\n",
       "      <td>40代半ば</td>\n",
       "      <td>川崎市中原区</td>\n",
       "      <td>すぐ会いたい</td>\n",
       "      <td>136649481</td>\n",
       "      <td>めぐみ</td>\n",
       "      <td>1/1 15:31</td>\n",
       "      <td>神奈川県</td>\n",
       "      <td>内容みてね。します？今日限定メール待ってます</td>\n",
       "    </tr>\n",
       "    <tr>\n",
       "      <th>1120</th>\n",
       "      <td>40代後半</td>\n",
       "      <td>川崎市中原区</td>\n",
       "      <td>すぐ会いたい</td>\n",
       "      <td>136629585</td>\n",
       "      <td>ななみ</td>\n",
       "      <td>2019/12/31 23:51</td>\n",
       "      <td>神奈川県</td>\n",
       "      <td>今から徒歩じゃない人、エッチな事で会えますよ！</td>\n",
       "    </tr>\n",
       "    <tr>\n",
       "      <th>1129</th>\n",
       "      <td>20代前半</td>\n",
       "      <td>川崎市中原区</td>\n",
       "      <td>すぐ会いたい</td>\n",
       "      <td>136633446</td>\n",
       "      <td>えな</td>\n",
       "      <td>2019/12/31 21:10</td>\n",
       "      <td>神奈川県</td>\n",
       "      <td>こんにちは～\\r\\n今から、武蔵小杉の近くに会いたい</td>\n",
       "    </tr>\n",
       "    <tr>\n",
       "      <th>1331</th>\n",
       "      <td>40代前半</td>\n",
       "      <td>川崎市中原区</td>\n",
       "      <td>すぐ会いたい</td>\n",
       "      <td>136492336</td>\n",
       "      <td>らむ</td>\n",
       "      <td>2019/12/27 16:34</td>\n",
       "      <td>神奈川県</td>\n",
       "      <td>メンズエステ</td>\n",
       "    </tr>\n",
       "  </tbody>\n",
       "</table>\n",
       "</div>"
      ],
      "text/plain": [
       "         age    city   genre         id name           post_at prefecture  \\\n",
       "951    40代前半  川崎市中原区     既婚者  135271732  ﾁｬｲ  2019/11/18  0:14       神奈川県   \n",
       "986    40代後半  川崎市中原区  アダルト・H  136649400  ななみ         1/1 15:26       神奈川県   \n",
       "1051   40代後半  川崎市中原区  ミドルエイジ  136647507  ななみ         1/1 13:55       神奈川県   \n",
       "1054   40代半ば  川崎市中原区  ミドルエイジ  136633157  めぐみ  2019/12/31 23:51       神奈川県   \n",
       "1061   40代半ば  川崎市中原区  ミドルエイジ  136607300  ちゃみ  2019/12/30 23:39       神奈川県   \n",
       "1064   40代半ば  川崎市中原区  ミドルエイジ  136574168  ちゃみ  2019/12/29 20:48       神奈川県   \n",
       "1067   40代半ば  川崎市中原区  ミドルエイジ  136541043  ちゃみ  2019/12/28 23:48       神奈川県   \n",
       "1075   40代半ば  川崎市中原区  すぐ会いたい  136649481  めぐみ         1/1 15:31       神奈川県   \n",
       "1120   40代後半  川崎市中原区  すぐ会いたい  136629585  ななみ  2019/12/31 23:51       神奈川県   \n",
       "1129   20代前半  川崎市中原区  すぐ会いたい  136633446   えな  2019/12/31 21:10       神奈川県   \n",
       "1331   40代前半  川崎市中原区  すぐ会いたい  136492336   らむ  2019/12/27 16:34       神奈川県   \n",
       "\n",
       "                           title  \n",
       "951             三桁ポチャの私と不倫しませんか？  \n",
       "986       サクッとエッチな事で会える車ある方待ってます  \n",
       "1051         車ある人エッチな事でサクッと会えますよ  \n",
       "1054               見てくれた？約束しましょう  \n",
       "1061                   深夜25時くらいに  \n",
       "1064                   深夜25時くらいに  \n",
       "1067                   深夜25時くらいに  \n",
       "1075      内容みてね。します？今日限定メール待ってます  \n",
       "1120     今から徒歩じゃない人、エッチな事で会えますよ！  \n",
       "1129  こんにちは～\\r\\n今から、武蔵小杉の近くに会いたい  \n",
       "1331                      メンズエステ  "
      ]
     },
     "execution_count": 11,
     "metadata": {},
     "output_type": "execute_result"
    }
   ],
   "source": [
    "area = \"川崎市中原区\"\n",
    "df[df['city'].str.contains(area)]"
   ]
  },
  {
   "cell_type": "markdown",
   "metadata": {},
   "source": [
    "## サクラ判定"
   ]
  },
  {
   "cell_type": "code",
   "execution_count": 12,
   "metadata": {},
   "outputs": [],
   "source": [
    "eval_df = df_master"
   ]
  },
  {
   "cell_type": "markdown",
   "metadata": {},
   "source": [
    "### 年齢によるフィルター"
   ]
  },
  {
   "cell_type": "code",
   "execution_count": 13,
   "metadata": {},
   "outputs": [],
   "source": [
    "old_age_list = [\"40代前半\", \"40代半ば\", \"40代後半\", \"50代前半\", \"50代半ば\", \"60代前半\", \"50代後半\"]\n",
    "eval_df = eval_df[eval_df.age.str[:3].astype(int) < 40]"
   ]
  },
  {
   "cell_type": "markdown",
   "metadata": {},
   "source": [
    "### NGワードによるフィルター"
   ]
  },
  {
   "cell_type": "code",
   "execution_count": 14,
   "metadata": {},
   "outputs": [],
   "source": [
    "ng_words = [\"ニューハーフ\", \"下着\", \"生\", \"ftm\", \"MTF\", \"ビッチ\", \"お願い\", \n",
    "            \"イラマ\", \"オネエ\", \"痴漢\", \"男の娘\", \"車\", \"バイ\",\n",
    "            \"おなべ\", \"ハメ撮り\", \"はめ撮り\", \"初体験\", \"処女\", \"童貞\"]\n",
    "\n",
    "def proc(x):\n",
    "    for ng_word in ng_words:\n",
    "        if ng_word in x:\n",
    "            return True\n",
    "    return False\n",
    "\n",
    "mask = eval_df[\"title\"].map(proc).map(lambda x: not x)\n",
    "eval_df = eval_df[mask]"
   ]
  },
  {
   "cell_type": "markdown",
   "metadata": {},
   "source": [
    "### 長すぎる名前のフィルター"
   ]
  },
  {
   "cell_type": "code",
   "execution_count": 15,
   "metadata": {},
   "outputs": [],
   "source": [
    "def proc(x):\n",
    "    if type(x) == str:\n",
    "        return len(x) < 10\n",
    "    else:\n",
    "        return True\n",
    "\n",
    "mask = eval_df[\"name\"].map(proc)\n",
    "eval_df = eval_df[mask]"
   ]
  },
  {
   "cell_type": "markdown",
   "metadata": {},
   "source": [
    "### タイトルの出現頻度\n",
    "タイトルの出現頻度による評価。頻度もさらに2回の頻度、3回以上の頻度で細分化できる。"
   ]
  },
  {
   "cell_type": "code",
   "execution_count": 16,
   "metadata": {},
   "outputs": [],
   "source": [
    "duplicated_title_df = pd.DataFrame(eval_df.groupby(\"title\").count())\n",
    "output = duplicated_title_df.sort_values(\"id\", ascending=False)"
   ]
  },
  {
   "cell_type": "code",
   "execution_count": 17,
   "metadata": {},
   "outputs": [],
   "source": [
    "output = pd.DataFrame(output[\"id\"])\n",
    "output.index.name = \"title\"\n",
    "output = output.rename(columns = {\"id\": \"title_freq\"})"
   ]
  },
  {
   "cell_type": "code",
   "execution_count": 18,
   "metadata": {},
   "outputs": [],
   "source": [
    "eval_df = pd.merge(eval_df, output, on=\"title\", how=\"left\")"
   ]
  },
  {
   "cell_type": "markdown",
   "metadata": {},
   "source": [
    "### プロフィールの出現頻度"
   ]
  },
  {
   "cell_type": "code",
   "execution_count": 19,
   "metadata": {},
   "outputs": [],
   "source": [
    "# eval_df[\"name_age_city\"] = eval_df[\"name\"] + \"_\" + eval_df[\"age\"] + \"_\" + eval_df[\"city\"]\n",
    "eval_df[\"name_age_city\"] = eval_df[\"name\"] + \"_\" + eval_df[\"age\"]\n",
    "output = pd.DataFrame(eval_df.groupby(\"name_age_city\").count())"
   ]
  },
  {
   "cell_type": "code",
   "execution_count": 20,
   "metadata": {},
   "outputs": [],
   "source": [
    "output = pd.DataFrame(output[\"id\"])\n",
    "output.index.name = \"name_age_city\"\n",
    "output = output.rename(columns = {\"id\": \"profile_freq\"})"
   ]
  },
  {
   "cell_type": "code",
   "execution_count": 21,
   "metadata": {},
   "outputs": [
    {
     "data": {
      "text/html": [
       "<div>\n",
       "<style scoped>\n",
       "    .dataframe tbody tr th:only-of-type {\n",
       "        vertical-align: middle;\n",
       "    }\n",
       "\n",
       "    .dataframe tbody tr th {\n",
       "        vertical-align: top;\n",
       "    }\n",
       "\n",
       "    .dataframe thead th {\n",
       "        text-align: right;\n",
       "    }\n",
       "</style>\n",
       "<table border=\"1\" class=\"dataframe\">\n",
       "  <thead>\n",
       "    <tr style=\"text-align: right;\">\n",
       "      <th></th>\n",
       "      <th>profile_freq</th>\n",
       "    </tr>\n",
       "    <tr>\n",
       "      <th>name_age_city</th>\n",
       "      <th></th>\n",
       "    </tr>\n",
       "  </thead>\n",
       "  <tbody>\n",
       "    <tr>\n",
       "      <th>@*_ 20代前半</th>\n",
       "      <td>1</td>\n",
       "    </tr>\n",
       "    <tr>\n",
       "      <th>Ai_ 20代半ば</th>\n",
       "      <td>1</td>\n",
       "    </tr>\n",
       "    <tr>\n",
       "      <th>Alice_ 30代前半</th>\n",
       "      <td>1</td>\n",
       "    </tr>\n",
       "    <tr>\n",
       "      <th>ERIKA_ 20代半ば</th>\n",
       "      <td>1</td>\n",
       "    </tr>\n",
       "    <tr>\n",
       "      <th>Jun_ 20代前半</th>\n",
       "      <td>1</td>\n",
       "    </tr>\n",
       "    <tr>\n",
       "      <th>...</th>\n",
       "      <td>...</td>\n",
       "    </tr>\n",
       "    <tr>\n",
       "      <th>雨宮_ 20代半ば</th>\n",
       "      <td>1</td>\n",
       "    </tr>\n",
       "    <tr>\n",
       "      <th>麻友_ 30代前半</th>\n",
       "      <td>1</td>\n",
       "    </tr>\n",
       "    <tr>\n",
       "      <th>ｱﾐ_ 30代前半</th>\n",
       "      <td>1</td>\n",
       "    </tr>\n",
       "    <tr>\n",
       "      <th>ﾊﾅ❁﻿_ 20代前半</th>\n",
       "      <td>1</td>\n",
       "    </tr>\n",
       "    <tr>\n",
       "      <th>ﾐﾆｨｰ_ 20代半ば</th>\n",
       "      <td>1</td>\n",
       "    </tr>\n",
       "  </tbody>\n",
       "</table>\n",
       "<p>595 rows × 1 columns</p>\n",
       "</div>"
      ],
      "text/plain": [
       "               profile_freq\n",
       "name_age_city              \n",
       "@*_ 20代前半                 1\n",
       "Ai_ 20代半ば                 1\n",
       "Alice_ 30代前半              1\n",
       "ERIKA_ 20代半ば              1\n",
       "Jun_ 20代前半                1\n",
       "...                     ...\n",
       "雨宮_ 20代半ば                 1\n",
       "麻友_ 30代前半                 1\n",
       "ｱﾐ_ 30代前半                 1\n",
       "ﾊﾅ❁﻿_ 20代前半               1\n",
       "ﾐﾆｨｰ_ 20代半ば               1\n",
       "\n",
       "[595 rows x 1 columns]"
      ]
     },
     "execution_count": 21,
     "metadata": {},
     "output_type": "execute_result"
    }
   ],
   "source": [
    "output[output.profile_freq == 1]"
   ]
  },
  {
   "cell_type": "code",
   "execution_count": 22,
   "metadata": {},
   "outputs": [],
   "source": [
    "eval_df = pd.merge(eval_df, output, on=\"name_age_city\", how=\"left\")"
   ]
  },
  {
   "cell_type": "markdown",
   "metadata": {},
   "source": [
    "## 結果"
   ]
  },
  {
   "cell_type": "code",
   "execution_count": 23,
   "metadata": {},
   "outputs": [],
   "source": [
    "result = eval_df\n",
    "result = result.assign(datetime=result.apply(lambda x: to_datetime(x.post_at), axis=1))\n",
    "result = result.sort_values(\"datetime\")\n",
    "\n",
    "one_day_ago = datetime.datetime.now() - datetime.timedelta(days=1)\n",
    "result = result[result.datetime > one_day_ago]\n",
    "\n",
    "result = result[(result.profile_freq == 1) & (result.title_freq == 1) ]"
   ]
  },
  {
   "cell_type": "code",
   "execution_count": 24,
   "metadata": {},
   "outputs": [],
   "source": [
    "out = result.drop([\"url\", \"image_url\", \"title_freq\", \"profile_freq\", \"name_age_city\", \"datetime\"], axis=1)"
   ]
  },
  {
   "cell_type": "code",
   "execution_count": 25,
   "metadata": {},
   "outputs": [
    {
     "data": {
      "text/plain": [
       "111"
      ]
     },
     "execution_count": 25,
     "metadata": {},
     "output_type": "execute_result"
    }
   ],
   "source": [
    "len(out)"
   ]
  },
  {
   "cell_type": "code",
   "execution_count": 28,
   "metadata": {},
   "outputs": [],
   "source": [
    "out_file_name = \"wakuwaku_out.csv\"\n",
    "out.to_csv(\"./../data/\" + out_file_name)"
   ]
  },
  {
   "cell_type": "code",
   "execution_count": null,
   "metadata": {},
   "outputs": [],
   "source": []
  }
 ],
 "metadata": {
  "kernelspec": {
   "display_name": "Environment (conda_auto-matching)",
   "language": "python",
   "name": "conda_auto-matching"
  },
  "language_info": {
   "codemirror_mode": {
    "name": "ipython",
    "version": 3
   },
   "file_extension": ".py",
   "mimetype": "text/x-python",
   "name": "python",
   "nbconvert_exporter": "python",
   "pygments_lexer": "ipython3",
   "version": "3.7.5"
  }
 },
 "nbformat": 4,
 "nbformat_minor": 2
}
